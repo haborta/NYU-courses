{
 "cells": [
  {
   "cell_type": "code",
   "execution_count": 1,
   "id": "1210c814",
   "metadata": {},
   "outputs": [],
   "source": [
    "import numpy as np\n",
    "import pandas as pd\n",
    "from sklearn.linear_model import LogisticRegression"
   ]
  },
  {
   "cell_type": "markdown",
   "id": "f976b2d2",
   "metadata": {},
   "source": [
    "# Load data"
   ]
  },
  {
   "cell_type": "code",
   "execution_count": 2,
   "id": "2d8a95fa",
   "metadata": {},
   "outputs": [
    {
     "data": {
      "text/html": [
       "<div>\n",
       "<style scoped>\n",
       "    .dataframe tbody tr th:only-of-type {\n",
       "        vertical-align: middle;\n",
       "    }\n",
       "\n",
       "    .dataframe tbody tr th {\n",
       "        vertical-align: top;\n",
       "    }\n",
       "\n",
       "    .dataframe thead th {\n",
       "        text-align: right;\n",
       "    }\n",
       "</style>\n",
       "<table border=\"1\" class=\"dataframe\">\n",
       "  <thead>\n",
       "    <tr style=\"text-align: right;\">\n",
       "      <th></th>\n",
       "      <th>id</th>\n",
       "      <th>sex</th>\n",
       "      <th>patient_type</th>\n",
       "      <th>entry_date</th>\n",
       "      <th>date_symptoms</th>\n",
       "      <th>date_died</th>\n",
       "      <th>intubed</th>\n",
       "      <th>pneumonia</th>\n",
       "      <th>age</th>\n",
       "      <th>pregnancy</th>\n",
       "      <th>...</th>\n",
       "      <th>inmsupr</th>\n",
       "      <th>hypertension</th>\n",
       "      <th>other_disease</th>\n",
       "      <th>cardiovascular</th>\n",
       "      <th>obesity</th>\n",
       "      <th>renal_chronic</th>\n",
       "      <th>tobacco</th>\n",
       "      <th>contact_other_covid</th>\n",
       "      <th>covid_res</th>\n",
       "      <th>icu</th>\n",
       "    </tr>\n",
       "  </thead>\n",
       "  <tbody>\n",
       "    <tr>\n",
       "      <th>0</th>\n",
       "      <td>16169f</td>\n",
       "      <td>2</td>\n",
       "      <td>1</td>\n",
       "      <td>04-05-2020</td>\n",
       "      <td>02-05-2020</td>\n",
       "      <td>9999-99-99</td>\n",
       "      <td>97</td>\n",
       "      <td>2</td>\n",
       "      <td>27</td>\n",
       "      <td>97</td>\n",
       "      <td>...</td>\n",
       "      <td>2</td>\n",
       "      <td>2</td>\n",
       "      <td>2</td>\n",
       "      <td>2</td>\n",
       "      <td>2</td>\n",
       "      <td>2</td>\n",
       "      <td>2</td>\n",
       "      <td>2</td>\n",
       "      <td>1</td>\n",
       "      <td>97</td>\n",
       "    </tr>\n",
       "    <tr>\n",
       "      <th>1</th>\n",
       "      <td>1009bf</td>\n",
       "      <td>2</td>\n",
       "      <td>1</td>\n",
       "      <td>19-03-2020</td>\n",
       "      <td>17-03-2020</td>\n",
       "      <td>9999-99-99</td>\n",
       "      <td>97</td>\n",
       "      <td>2</td>\n",
       "      <td>24</td>\n",
       "      <td>97</td>\n",
       "      <td>...</td>\n",
       "      <td>2</td>\n",
       "      <td>2</td>\n",
       "      <td>2</td>\n",
       "      <td>2</td>\n",
       "      <td>2</td>\n",
       "      <td>2</td>\n",
       "      <td>2</td>\n",
       "      <td>99</td>\n",
       "      <td>1</td>\n",
       "      <td>97</td>\n",
       "    </tr>\n",
       "    <tr>\n",
       "      <th>2</th>\n",
       "      <td>167386</td>\n",
       "      <td>1</td>\n",
       "      <td>2</td>\n",
       "      <td>06-04-2020</td>\n",
       "      <td>01-04-2020</td>\n",
       "      <td>9999-99-99</td>\n",
       "      <td>2</td>\n",
       "      <td>2</td>\n",
       "      <td>54</td>\n",
       "      <td>2</td>\n",
       "      <td>...</td>\n",
       "      <td>2</td>\n",
       "      <td>2</td>\n",
       "      <td>2</td>\n",
       "      <td>2</td>\n",
       "      <td>1</td>\n",
       "      <td>2</td>\n",
       "      <td>2</td>\n",
       "      <td>99</td>\n",
       "      <td>1</td>\n",
       "      <td>2</td>\n",
       "    </tr>\n",
       "    <tr>\n",
       "      <th>3</th>\n",
       "      <td>0b5948</td>\n",
       "      <td>2</td>\n",
       "      <td>2</td>\n",
       "      <td>17-04-2020</td>\n",
       "      <td>10-04-2020</td>\n",
       "      <td>9999-99-99</td>\n",
       "      <td>2</td>\n",
       "      <td>1</td>\n",
       "      <td>30</td>\n",
       "      <td>97</td>\n",
       "      <td>...</td>\n",
       "      <td>2</td>\n",
       "      <td>2</td>\n",
       "      <td>2</td>\n",
       "      <td>2</td>\n",
       "      <td>2</td>\n",
       "      <td>2</td>\n",
       "      <td>2</td>\n",
       "      <td>99</td>\n",
       "      <td>1</td>\n",
       "      <td>2</td>\n",
       "    </tr>\n",
       "    <tr>\n",
       "      <th>4</th>\n",
       "      <td>0d01b5</td>\n",
       "      <td>1</td>\n",
       "      <td>2</td>\n",
       "      <td>13-04-2020</td>\n",
       "      <td>13-04-2020</td>\n",
       "      <td>22-04-2020</td>\n",
       "      <td>2</td>\n",
       "      <td>2</td>\n",
       "      <td>60</td>\n",
       "      <td>2</td>\n",
       "      <td>...</td>\n",
       "      <td>2</td>\n",
       "      <td>1</td>\n",
       "      <td>2</td>\n",
       "      <td>1</td>\n",
       "      <td>2</td>\n",
       "      <td>2</td>\n",
       "      <td>2</td>\n",
       "      <td>99</td>\n",
       "      <td>1</td>\n",
       "      <td>2</td>\n",
       "    </tr>\n",
       "    <tr>\n",
       "      <th>...</th>\n",
       "      <td>...</td>\n",
       "      <td>...</td>\n",
       "      <td>...</td>\n",
       "      <td>...</td>\n",
       "      <td>...</td>\n",
       "      <td>...</td>\n",
       "      <td>...</td>\n",
       "      <td>...</td>\n",
       "      <td>...</td>\n",
       "      <td>...</td>\n",
       "      <td>...</td>\n",
       "      <td>...</td>\n",
       "      <td>...</td>\n",
       "      <td>...</td>\n",
       "      <td>...</td>\n",
       "      <td>...</td>\n",
       "      <td>...</td>\n",
       "      <td>...</td>\n",
       "      <td>...</td>\n",
       "      <td>...</td>\n",
       "      <td>...</td>\n",
       "    </tr>\n",
       "    <tr>\n",
       "      <th>566596</th>\n",
       "      <td>1.44E+80</td>\n",
       "      <td>2</td>\n",
       "      <td>1</td>\n",
       "      <td>05-05-2020</td>\n",
       "      <td>02-05-2020</td>\n",
       "      <td>9999-99-99</td>\n",
       "      <td>97</td>\n",
       "      <td>2</td>\n",
       "      <td>46</td>\n",
       "      <td>97</td>\n",
       "      <td>...</td>\n",
       "      <td>2</td>\n",
       "      <td>2</td>\n",
       "      <td>2</td>\n",
       "      <td>2</td>\n",
       "      <td>2</td>\n",
       "      <td>2</td>\n",
       "      <td>2</td>\n",
       "      <td>1</td>\n",
       "      <td>3</td>\n",
       "      <td>97</td>\n",
       "    </tr>\n",
       "    <tr>\n",
       "      <th>566597</th>\n",
       "      <td>01ff60</td>\n",
       "      <td>2</td>\n",
       "      <td>1</td>\n",
       "      <td>13-05-2020</td>\n",
       "      <td>03-05-2020</td>\n",
       "      <td>9999-99-99</td>\n",
       "      <td>97</td>\n",
       "      <td>2</td>\n",
       "      <td>58</td>\n",
       "      <td>97</td>\n",
       "      <td>...</td>\n",
       "      <td>2</td>\n",
       "      <td>2</td>\n",
       "      <td>2</td>\n",
       "      <td>2</td>\n",
       "      <td>2</td>\n",
       "      <td>2</td>\n",
       "      <td>2</td>\n",
       "      <td>2</td>\n",
       "      <td>3</td>\n",
       "      <td>97</td>\n",
       "    </tr>\n",
       "    <tr>\n",
       "      <th>566598</th>\n",
       "      <td>047cd1</td>\n",
       "      <td>1</td>\n",
       "      <td>1</td>\n",
       "      <td>07-04-2020</td>\n",
       "      <td>06-04-2020</td>\n",
       "      <td>9999-99-99</td>\n",
       "      <td>97</td>\n",
       "      <td>2</td>\n",
       "      <td>48</td>\n",
       "      <td>2</td>\n",
       "      <td>...</td>\n",
       "      <td>2</td>\n",
       "      <td>2</td>\n",
       "      <td>2</td>\n",
       "      <td>2</td>\n",
       "      <td>2</td>\n",
       "      <td>2</td>\n",
       "      <td>2</td>\n",
       "      <td>2</td>\n",
       "      <td>3</td>\n",
       "      <td>97</td>\n",
       "    </tr>\n",
       "    <tr>\n",
       "      <th>566599</th>\n",
       "      <td>1beb81</td>\n",
       "      <td>1</td>\n",
       "      <td>2</td>\n",
       "      <td>14-05-2020</td>\n",
       "      <td>01-05-2020</td>\n",
       "      <td>9999-99-99</td>\n",
       "      <td>2</td>\n",
       "      <td>1</td>\n",
       "      <td>49</td>\n",
       "      <td>2</td>\n",
       "      <td>...</td>\n",
       "      <td>2</td>\n",
       "      <td>2</td>\n",
       "      <td>2</td>\n",
       "      <td>2</td>\n",
       "      <td>1</td>\n",
       "      <td>2</td>\n",
       "      <td>2</td>\n",
       "      <td>99</td>\n",
       "      <td>3</td>\n",
       "      <td>2</td>\n",
       "    </tr>\n",
       "    <tr>\n",
       "      <th>566600</th>\n",
       "      <td>16fb02</td>\n",
       "      <td>1</td>\n",
       "      <td>1</td>\n",
       "      <td>31-05-2020</td>\n",
       "      <td>29-05-2020</td>\n",
       "      <td>9999-99-99</td>\n",
       "      <td>97</td>\n",
       "      <td>1</td>\n",
       "      <td>43</td>\n",
       "      <td>2</td>\n",
       "      <td>...</td>\n",
       "      <td>2</td>\n",
       "      <td>2</td>\n",
       "      <td>2</td>\n",
       "      <td>2</td>\n",
       "      <td>2</td>\n",
       "      <td>2</td>\n",
       "      <td>2</td>\n",
       "      <td>2</td>\n",
       "      <td>3</td>\n",
       "      <td>97</td>\n",
       "    </tr>\n",
       "  </tbody>\n",
       "</table>\n",
       "<p>566601 rows × 23 columns</p>\n",
       "</div>"
      ],
      "text/plain": [
       "              id  sex  patient_type  entry_date date_symptoms   date_died  \\\n",
       "0         16169f    2             1  04-05-2020    02-05-2020  9999-99-99   \n",
       "1         1009bf    2             1  19-03-2020    17-03-2020  9999-99-99   \n",
       "2         167386    1             2  06-04-2020    01-04-2020  9999-99-99   \n",
       "3         0b5948    2             2  17-04-2020    10-04-2020  9999-99-99   \n",
       "4         0d01b5    1             2  13-04-2020    13-04-2020  22-04-2020   \n",
       "...          ...  ...           ...         ...           ...         ...   \n",
       "566596  1.44E+80    2             1  05-05-2020    02-05-2020  9999-99-99   \n",
       "566597    01ff60    2             1  13-05-2020    03-05-2020  9999-99-99   \n",
       "566598    047cd1    1             1  07-04-2020    06-04-2020  9999-99-99   \n",
       "566599    1beb81    1             2  14-05-2020    01-05-2020  9999-99-99   \n",
       "566600    16fb02    1             1  31-05-2020    29-05-2020  9999-99-99   \n",
       "\n",
       "        intubed  pneumonia  age  pregnancy  ...  inmsupr  hypertension  \\\n",
       "0            97          2   27         97  ...        2             2   \n",
       "1            97          2   24         97  ...        2             2   \n",
       "2             2          2   54          2  ...        2             2   \n",
       "3             2          1   30         97  ...        2             2   \n",
       "4             2          2   60          2  ...        2             1   \n",
       "...         ...        ...  ...        ...  ...      ...           ...   \n",
       "566596       97          2   46         97  ...        2             2   \n",
       "566597       97          2   58         97  ...        2             2   \n",
       "566598       97          2   48          2  ...        2             2   \n",
       "566599        2          1   49          2  ...        2             2   \n",
       "566600       97          1   43          2  ...        2             2   \n",
       "\n",
       "        other_disease  cardiovascular  obesity  renal_chronic  tobacco  \\\n",
       "0                   2               2        2              2        2   \n",
       "1                   2               2        2              2        2   \n",
       "2                   2               2        1              2        2   \n",
       "3                   2               2        2              2        2   \n",
       "4                   2               1        2              2        2   \n",
       "...               ...             ...      ...            ...      ...   \n",
       "566596              2               2        2              2        2   \n",
       "566597              2               2        2              2        2   \n",
       "566598              2               2        2              2        2   \n",
       "566599              2               2        1              2        2   \n",
       "566600              2               2        2              2        2   \n",
       "\n",
       "        contact_other_covid  covid_res  icu  \n",
       "0                         2          1   97  \n",
       "1                        99          1   97  \n",
       "2                        99          1    2  \n",
       "3                        99          1    2  \n",
       "4                        99          1    2  \n",
       "...                     ...        ...  ...  \n",
       "566596                    1          3   97  \n",
       "566597                    2          3   97  \n",
       "566598                    2          3   97  \n",
       "566599                   99          3    2  \n",
       "566600                    2          3   97  \n",
       "\n",
       "[566601 rows x 23 columns]"
      ]
     },
     "execution_count": 2,
     "metadata": {},
     "output_type": "execute_result"
    }
   ],
   "source": [
    "covid_df = pd.read_csv(\".\\covid.csv\")\n",
    "covid_df = covid_df.drop(len(covid_df) - 1, axis=0)\n",
    "covid_df"
   ]
  },
  {
   "cell_type": "code",
   "execution_count": 3,
   "id": "2d647f9f",
   "metadata": {},
   "outputs": [],
   "source": [
    "covid_df['date_died'] = (covid_df['date_died'] != \"9999-99-99\") * 1\n",
    "covid_df = covid_df.stack()\n",
    "covid_df[covid_df == 97] = 0\n",
    "covid_df[covid_df == 98] = 0\n",
    "covid_df[covid_df == 99] = 0\n",
    "covid_df = covid_df.unstack()"
   ]
  },
  {
   "cell_type": "code",
   "execution_count": 5,
   "id": "889f6101",
   "metadata": {},
   "outputs": [],
   "source": [
    "covid_df = covid_df.drop(['id', 'entry_date', 'date_symptoms'], axis=1)\n",
    "covid_df.rename(columns={'date_died':'is_dead'}, inplace=True)"
   ]
  },
  {
   "cell_type": "code",
   "execution_count": 6,
   "id": "d5dec0de",
   "metadata": {},
   "outputs": [
    {
     "data": {
      "text/html": [
       "<div>\n",
       "<style scoped>\n",
       "    .dataframe tbody tr th:only-of-type {\n",
       "        vertical-align: middle;\n",
       "    }\n",
       "\n",
       "    .dataframe tbody tr th {\n",
       "        vertical-align: top;\n",
       "    }\n",
       "\n",
       "    .dataframe thead th {\n",
       "        text-align: right;\n",
       "    }\n",
       "</style>\n",
       "<table border=\"1\" class=\"dataframe\">\n",
       "  <thead>\n",
       "    <tr style=\"text-align: right;\">\n",
       "      <th></th>\n",
       "      <th>sex</th>\n",
       "      <th>patient_type</th>\n",
       "      <th>is_dead</th>\n",
       "      <th>intubed</th>\n",
       "      <th>pneumonia</th>\n",
       "      <th>age</th>\n",
       "      <th>pregnancy</th>\n",
       "      <th>diabetes</th>\n",
       "      <th>copd</th>\n",
       "      <th>asthma</th>\n",
       "      <th>inmsupr</th>\n",
       "      <th>hypertension</th>\n",
       "      <th>other_disease</th>\n",
       "      <th>cardiovascular</th>\n",
       "      <th>obesity</th>\n",
       "      <th>renal_chronic</th>\n",
       "      <th>tobacco</th>\n",
       "      <th>contact_other_covid</th>\n",
       "      <th>covid_res</th>\n",
       "      <th>icu</th>\n",
       "    </tr>\n",
       "  </thead>\n",
       "  <tbody>\n",
       "    <tr>\n",
       "      <th>0</th>\n",
       "      <td>2</td>\n",
       "      <td>1</td>\n",
       "      <td>0</td>\n",
       "      <td>0</td>\n",
       "      <td>2</td>\n",
       "      <td>27</td>\n",
       "      <td>0</td>\n",
       "      <td>2</td>\n",
       "      <td>2</td>\n",
       "      <td>2</td>\n",
       "      <td>2</td>\n",
       "      <td>2</td>\n",
       "      <td>2</td>\n",
       "      <td>2</td>\n",
       "      <td>2</td>\n",
       "      <td>2</td>\n",
       "      <td>2</td>\n",
       "      <td>2</td>\n",
       "      <td>1</td>\n",
       "      <td>0</td>\n",
       "    </tr>\n",
       "    <tr>\n",
       "      <th>1</th>\n",
       "      <td>2</td>\n",
       "      <td>1</td>\n",
       "      <td>0</td>\n",
       "      <td>0</td>\n",
       "      <td>2</td>\n",
       "      <td>24</td>\n",
       "      <td>0</td>\n",
       "      <td>2</td>\n",
       "      <td>2</td>\n",
       "      <td>2</td>\n",
       "      <td>2</td>\n",
       "      <td>2</td>\n",
       "      <td>2</td>\n",
       "      <td>2</td>\n",
       "      <td>2</td>\n",
       "      <td>2</td>\n",
       "      <td>2</td>\n",
       "      <td>0</td>\n",
       "      <td>1</td>\n",
       "      <td>0</td>\n",
       "    </tr>\n",
       "    <tr>\n",
       "      <th>2</th>\n",
       "      <td>1</td>\n",
       "      <td>2</td>\n",
       "      <td>0</td>\n",
       "      <td>2</td>\n",
       "      <td>2</td>\n",
       "      <td>54</td>\n",
       "      <td>2</td>\n",
       "      <td>2</td>\n",
       "      <td>2</td>\n",
       "      <td>2</td>\n",
       "      <td>2</td>\n",
       "      <td>2</td>\n",
       "      <td>2</td>\n",
       "      <td>2</td>\n",
       "      <td>1</td>\n",
       "      <td>2</td>\n",
       "      <td>2</td>\n",
       "      <td>0</td>\n",
       "      <td>1</td>\n",
       "      <td>2</td>\n",
       "    </tr>\n",
       "    <tr>\n",
       "      <th>3</th>\n",
       "      <td>2</td>\n",
       "      <td>2</td>\n",
       "      <td>0</td>\n",
       "      <td>2</td>\n",
       "      <td>1</td>\n",
       "      <td>30</td>\n",
       "      <td>0</td>\n",
       "      <td>2</td>\n",
       "      <td>2</td>\n",
       "      <td>2</td>\n",
       "      <td>2</td>\n",
       "      <td>2</td>\n",
       "      <td>2</td>\n",
       "      <td>2</td>\n",
       "      <td>2</td>\n",
       "      <td>2</td>\n",
       "      <td>2</td>\n",
       "      <td>0</td>\n",
       "      <td>1</td>\n",
       "      <td>2</td>\n",
       "    </tr>\n",
       "    <tr>\n",
       "      <th>4</th>\n",
       "      <td>1</td>\n",
       "      <td>2</td>\n",
       "      <td>1</td>\n",
       "      <td>2</td>\n",
       "      <td>2</td>\n",
       "      <td>60</td>\n",
       "      <td>2</td>\n",
       "      <td>1</td>\n",
       "      <td>2</td>\n",
       "      <td>2</td>\n",
       "      <td>2</td>\n",
       "      <td>1</td>\n",
       "      <td>2</td>\n",
       "      <td>1</td>\n",
       "      <td>2</td>\n",
       "      <td>2</td>\n",
       "      <td>2</td>\n",
       "      <td>0</td>\n",
       "      <td>1</td>\n",
       "      <td>2</td>\n",
       "    </tr>\n",
       "    <tr>\n",
       "      <th>...</th>\n",
       "      <td>...</td>\n",
       "      <td>...</td>\n",
       "      <td>...</td>\n",
       "      <td>...</td>\n",
       "      <td>...</td>\n",
       "      <td>...</td>\n",
       "      <td>...</td>\n",
       "      <td>...</td>\n",
       "      <td>...</td>\n",
       "      <td>...</td>\n",
       "      <td>...</td>\n",
       "      <td>...</td>\n",
       "      <td>...</td>\n",
       "      <td>...</td>\n",
       "      <td>...</td>\n",
       "      <td>...</td>\n",
       "      <td>...</td>\n",
       "      <td>...</td>\n",
       "      <td>...</td>\n",
       "      <td>...</td>\n",
       "    </tr>\n",
       "    <tr>\n",
       "      <th>566596</th>\n",
       "      <td>2</td>\n",
       "      <td>1</td>\n",
       "      <td>0</td>\n",
       "      <td>0</td>\n",
       "      <td>2</td>\n",
       "      <td>46</td>\n",
       "      <td>0</td>\n",
       "      <td>1</td>\n",
       "      <td>2</td>\n",
       "      <td>2</td>\n",
       "      <td>2</td>\n",
       "      <td>2</td>\n",
       "      <td>2</td>\n",
       "      <td>2</td>\n",
       "      <td>2</td>\n",
       "      <td>2</td>\n",
       "      <td>2</td>\n",
       "      <td>1</td>\n",
       "      <td>3</td>\n",
       "      <td>0</td>\n",
       "    </tr>\n",
       "    <tr>\n",
       "      <th>566597</th>\n",
       "      <td>2</td>\n",
       "      <td>1</td>\n",
       "      <td>0</td>\n",
       "      <td>0</td>\n",
       "      <td>2</td>\n",
       "      <td>58</td>\n",
       "      <td>0</td>\n",
       "      <td>1</td>\n",
       "      <td>2</td>\n",
       "      <td>2</td>\n",
       "      <td>2</td>\n",
       "      <td>2</td>\n",
       "      <td>2</td>\n",
       "      <td>2</td>\n",
       "      <td>2</td>\n",
       "      <td>2</td>\n",
       "      <td>2</td>\n",
       "      <td>2</td>\n",
       "      <td>3</td>\n",
       "      <td>0</td>\n",
       "    </tr>\n",
       "    <tr>\n",
       "      <th>566598</th>\n",
       "      <td>1</td>\n",
       "      <td>1</td>\n",
       "      <td>0</td>\n",
       "      <td>0</td>\n",
       "      <td>2</td>\n",
       "      <td>48</td>\n",
       "      <td>2</td>\n",
       "      <td>2</td>\n",
       "      <td>2</td>\n",
       "      <td>2</td>\n",
       "      <td>2</td>\n",
       "      <td>2</td>\n",
       "      <td>2</td>\n",
       "      <td>2</td>\n",
       "      <td>2</td>\n",
       "      <td>2</td>\n",
       "      <td>2</td>\n",
       "      <td>2</td>\n",
       "      <td>3</td>\n",
       "      <td>0</td>\n",
       "    </tr>\n",
       "    <tr>\n",
       "      <th>566599</th>\n",
       "      <td>1</td>\n",
       "      <td>2</td>\n",
       "      <td>0</td>\n",
       "      <td>2</td>\n",
       "      <td>1</td>\n",
       "      <td>49</td>\n",
       "      <td>2</td>\n",
       "      <td>2</td>\n",
       "      <td>2</td>\n",
       "      <td>2</td>\n",
       "      <td>2</td>\n",
       "      <td>2</td>\n",
       "      <td>2</td>\n",
       "      <td>2</td>\n",
       "      <td>1</td>\n",
       "      <td>2</td>\n",
       "      <td>2</td>\n",
       "      <td>0</td>\n",
       "      <td>3</td>\n",
       "      <td>2</td>\n",
       "    </tr>\n",
       "    <tr>\n",
       "      <th>566600</th>\n",
       "      <td>1</td>\n",
       "      <td>1</td>\n",
       "      <td>0</td>\n",
       "      <td>0</td>\n",
       "      <td>1</td>\n",
       "      <td>43</td>\n",
       "      <td>2</td>\n",
       "      <td>2</td>\n",
       "      <td>2</td>\n",
       "      <td>2</td>\n",
       "      <td>2</td>\n",
       "      <td>2</td>\n",
       "      <td>2</td>\n",
       "      <td>2</td>\n",
       "      <td>2</td>\n",
       "      <td>2</td>\n",
       "      <td>2</td>\n",
       "      <td>2</td>\n",
       "      <td>3</td>\n",
       "      <td>0</td>\n",
       "    </tr>\n",
       "  </tbody>\n",
       "</table>\n",
       "<p>566601 rows × 20 columns</p>\n",
       "</div>"
      ],
      "text/plain": [
       "       sex patient_type is_dead intubed pneumonia age pregnancy diabetes copd  \\\n",
       "0        2            1       0       0         2  27         0        2    2   \n",
       "1        2            1       0       0         2  24         0        2    2   \n",
       "2        1            2       0       2         2  54         2        2    2   \n",
       "3        2            2       0       2         1  30         0        2    2   \n",
       "4        1            2       1       2         2  60         2        1    2   \n",
       "...     ..          ...     ...     ...       ...  ..       ...      ...  ...   \n",
       "566596   2            1       0       0         2  46         0        1    2   \n",
       "566597   2            1       0       0         2  58         0        1    2   \n",
       "566598   1            1       0       0         2  48         2        2    2   \n",
       "566599   1            2       0       2         1  49         2        2    2   \n",
       "566600   1            1       0       0         1  43         2        2    2   \n",
       "\n",
       "       asthma inmsupr hypertension other_disease cardiovascular obesity  \\\n",
       "0           2       2            2             2              2       2   \n",
       "1           2       2            2             2              2       2   \n",
       "2           2       2            2             2              2       1   \n",
       "3           2       2            2             2              2       2   \n",
       "4           2       2            1             2              1       2   \n",
       "...       ...     ...          ...           ...            ...     ...   \n",
       "566596      2       2            2             2              2       2   \n",
       "566597      2       2            2             2              2       2   \n",
       "566598      2       2            2             2              2       2   \n",
       "566599      2       2            2             2              2       1   \n",
       "566600      2       2            2             2              2       2   \n",
       "\n",
       "       renal_chronic tobacco contact_other_covid covid_res icu  \n",
       "0                  2       2                   2         1   0  \n",
       "1                  2       2                   0         1   0  \n",
       "2                  2       2                   0         1   2  \n",
       "3                  2       2                   0         1   2  \n",
       "4                  2       2                   0         1   2  \n",
       "...              ...     ...                 ...       ...  ..  \n",
       "566596             2       2                   1         3   0  \n",
       "566597             2       2                   2         3   0  \n",
       "566598             2       2                   2         3   0  \n",
       "566599             2       2                   0         3   2  \n",
       "566600             2       2                   2         3   0  \n",
       "\n",
       "[566601 rows x 20 columns]"
      ]
     },
     "execution_count": 6,
     "metadata": {},
     "output_type": "execute_result"
    }
   ],
   "source": [
    "covid_df"
   ]
  },
  {
   "cell_type": "code",
   "execution_count": 7,
   "id": "1c668899",
   "metadata": {},
   "outputs": [],
   "source": [
    "X = covid_df.drop('is_dead', axis=1).to_numpy()\n",
    "y = covid_df['is_dead'].to_numpy()"
   ]
  },
  {
   "cell_type": "code",
   "execution_count": 8,
   "id": "357d3c70",
   "metadata": {},
   "outputs": [],
   "source": [
    "X = X.astype(int)\n",
    "y = np.array([y.astype(int)]).T"
   ]
  },
  {
   "cell_type": "code",
   "execution_count": 11,
   "id": "84c2284e",
   "metadata": {},
   "outputs": [],
   "source": [
    "from sklearn.model_selection import train_test_split\n",
    "Xtr, Xts, ytr, yts = train_test_split(X, y, test_size=0.33)"
   ]
  },
  {
   "cell_type": "code",
   "execution_count": 12,
   "id": "2016b072",
   "metadata": {},
   "outputs": [
    {
     "name": "stdout",
     "output_type": "stream",
     "text": [
      "(379622, 19)\n",
      "(186979, 19)\n"
     ]
    }
   ],
   "source": [
    "print(Xtr.shape)\n",
    "print(Xts.shape)"
   ]
  },
  {
   "cell_type": "code",
   "execution_count": 11,
   "id": "087acfaa",
   "metadata": {},
   "outputs": [],
   "source": [
    "'''\n",
    "from sklearn.preprocessing import StandardScaler\n",
    "scal = StandardScaler()\n",
    "Xtr = scal.fit_transform(Xtr)\n",
    "Xts = scal.transform(Xts)\n",
    "'''"
   ]
  },
  {
   "cell_type": "code",
   "execution_count": 93,
   "id": "74c44a40",
   "metadata": {},
   "outputs": [
    {
     "name": "stdout",
     "output_type": "stream",
     "text": [
      "[[1 1 0 ... 1 2 0]\n",
      " [1 1 0 ... 2 2 0]\n",
      " [1 1 0 ... 0 1 0]\n",
      " ...\n",
      " [2 1 0 ... 0 2 0]\n",
      " [1 2 2 ... 0 2 2]\n",
      " [2 1 0 ... 0 2 0]]\n"
     ]
    }
   ],
   "source": [
    "print(Xtr)"
   ]
  },
  {
   "cell_type": "code",
   "execution_count": 94,
   "id": "4813dc2c",
   "metadata": {},
   "outputs": [
    {
     "name": "stdout",
     "output_type": "stream",
     "text": [
      "(379622, 1)\n"
     ]
    }
   ],
   "source": [
    "print(ytr.shape)"
   ]
  },
  {
   "cell_type": "markdown",
   "id": "c6b3cc97",
   "metadata": {},
   "source": [
    "# Logistic Regression"
   ]
  },
  {
   "cell_type": "code",
   "execution_count": 95,
   "id": "36e23b4a",
   "metadata": {},
   "outputs": [
    {
     "name": "stderr",
     "output_type": "stream",
     "text": [
      "E:\\ANACONDA\\lib\\site-packages\\sklearn\\utils\\validation.py:63: DataConversionWarning: A column-vector y was passed when a 1d array was expected. Please change the shape of y to (n_samples, ), for example using ravel().\n",
      "  return f(*args, **kwargs)\n",
      "E:\\ANACONDA\\lib\\site-packages\\sklearn\\linear_model\\_logistic.py:763: ConvergenceWarning: lbfgs failed to converge (status=1):\n",
      "STOP: TOTAL NO. of ITERATIONS REACHED LIMIT.\n",
      "\n",
      "Increase the number of iterations (max_iter) or scale the data as shown in:\n",
      "    https://scikit-learn.org/stable/modules/preprocessing.html\n",
      "Please also refer to the documentation for alternative solver options:\n",
      "    https://scikit-learn.org/stable/modules/linear_model.html#logistic-regression\n",
      "  n_iter_i = _check_optimize_result(\n"
     ]
    },
    {
     "data": {
      "text/plain": [
       "LogisticRegression()"
      ]
     },
     "execution_count": 95,
     "metadata": {},
     "output_type": "execute_result"
    }
   ],
   "source": [
    "logreg = LogisticRegression(penalty=\"l2\", solver = 'lbfgs')\n",
    "logreg.fit(Xtr, ytr)\n",
    "#solver = 'liblinear'   acc = 0.9430203391824751\n",
    "#solver='lbfgs'  acc = 0.941923959375117\n",
    "#solver = 'sag'  acc = 0.9428224559977324\n",
    "#solver = 'newton-cg' acc = 0.9429989464057461"
   ]
  },
  {
   "cell_type": "code",
   "execution_count": 96,
   "id": "f1e5e23b",
   "metadata": {},
   "outputs": [],
   "source": [
    "yhat = logreg.predict(Xts)"
   ]
  },
  {
   "cell_type": "code",
   "execution_count": 97,
   "id": "6bcb210c",
   "metadata": {},
   "outputs": [],
   "source": [
    "yhat = yhat.reshape(yhat.shape[0],1)"
   ]
  },
  {
   "cell_type": "code",
   "execution_count": 98,
   "id": "36a3b5ef",
   "metadata": {},
   "outputs": [
    {
     "name": "stdout",
     "output_type": "stream",
     "text": [
      "0.9422234582493221\n"
     ]
    }
   ],
   "source": [
    "acc = np.mean(yhat == yts)\n",
    "print(acc)"
   ]
  },
  {
   "cell_type": "markdown",
   "id": "1e845cf2",
   "metadata": {},
   "source": [
    "##  Interpreting the weight vector"
   ]
  },
  {
   "cell_type": "code",
   "execution_count": 99,
   "id": "6ffea71b",
   "metadata": {},
   "outputs": [],
   "source": [
    "import matplotlib\n",
    "import matplotlib.pyplot as plt"
   ]
  },
  {
   "cell_type": "code",
   "execution_count": 100,
   "id": "dca0dfdd",
   "metadata": {},
   "outputs": [
    {
     "data": {
      "text/plain": [
       "<StemContainer object of 3 artists>"
      ]
     },
     "execution_count": 100,
     "metadata": {},
     "output_type": "execute_result"
    },
    {
     "data": {
      "image/png": "[encoded data removed]",
      "text/plain": [
       "<Figure size 432x288 with 1 Axes>"
      ]
     },
     "metadata": {
      "needs_background": "light"
     },
     "output_type": "display_data"
    }
   ],
   "source": [
    "W = logreg.coef_\n",
    "data = np.squeeze(W)\n",
    "plt.stem(data,use_line_collection=True)"
   ]
  },
  {
   "cell_type": "markdown",
   "id": "d886e826",
   "metadata": {},
   "source": [
    "\n",
    "For the components i which make W[i] is large, these components are more likely to lead to the interpretation of whether COVID-19 patients are at risk of death.\n"
   ]
  },
  {
   "cell_type": "markdown",
   "id": "35205326",
   "metadata": {},
   "source": [
    "## cross validation in L1-Regularization"
   ]
  },
  {
   "cell_type": "code",
   "execution_count": 88,
   "id": "6603a098",
   "metadata": {},
   "outputs": [],
   "source": [
    "from sklearn.model_selection import KFold"
   ]
  },
  {
   "cell_type": "code",
   "execution_count": 90,
   "id": "2534f86b",
   "metadata": {},
   "outputs": [
    {
     "name": "stderr",
     "output_type": "stream",
     "text": [
      "E:\\ANACONDA\\lib\\site-packages\\sklearn\\utils\\validation.py:63: DataConversionWarning: A column-vector y was passed when a 1d array was expected. Please change the shape of y to (n_samples, ), for example using ravel().\n",
      "  return f(*args, **kwargs)\n",
      "E:\\ANACONDA\\lib\\site-packages\\sklearn\\utils\\validation.py:63: DataConversionWarning: A column-vector y was passed when a 1d array was expected. Please change the shape of y to (n_samples, ), for example using ravel().\n",
      "  return f(*args, **kwargs)\n",
      "E:\\ANACONDA\\lib\\site-packages\\sklearn\\utils\\validation.py:63: DataConversionWarning: A column-vector y was passed when a 1d array was expected. Please change the shape of y to (n_samples, ), for example using ravel().\n",
      "  return f(*args, **kwargs)\n",
      "E:\\ANACONDA\\lib\\site-packages\\sklearn\\utils\\validation.py:63: DataConversionWarning: A column-vector y was passed when a 1d array was expected. Please change the shape of y to (n_samples, ), for example using ravel().\n",
      "  return f(*args, **kwargs)\n",
      "E:\\ANACONDA\\lib\\site-packages\\sklearn\\utils\\validation.py:63: DataConversionWarning: A column-vector y was passed when a 1d array was expected. Please change the shape of y to (n_samples, ), for example using ravel().\n",
      "  return f(*args, **kwargs)\n",
      "E:\\ANACONDA\\lib\\site-packages\\sklearn\\utils\\validation.py:63: DataConversionWarning: A column-vector y was passed when a 1d array was expected. Please change the shape of y to (n_samples, ), for example using ravel().\n",
      "  return f(*args, **kwargs)\n",
      "E:\\ANACONDA\\lib\\site-packages\\sklearn\\utils\\validation.py:63: DataConversionWarning: A column-vector y was passed when a 1d array was expected. Please change the shape of y to (n_samples, ), for example using ravel().\n",
      "  return f(*args, **kwargs)\n",
      "E:\\ANACONDA\\lib\\site-packages\\sklearn\\utils\\validation.py:63: DataConversionWarning: A column-vector y was passed when a 1d array was expected. Please change the shape of y to (n_samples, ), for example using ravel().\n",
      "  return f(*args, **kwargs)\n",
      "E:\\ANACONDA\\lib\\site-packages\\sklearn\\utils\\validation.py:63: DataConversionWarning: A column-vector y was passed when a 1d array was expected. Please change the shape of y to (n_samples, ), for example using ravel().\n",
      "  return f(*args, **kwargs)\n",
      "E:\\ANACONDA\\lib\\site-packages\\sklearn\\utils\\validation.py:63: DataConversionWarning: A column-vector y was passed when a 1d array was expected. Please change the shape of y to (n_samples, ), for example using ravel().\n",
      "  return f(*args, **kwargs)\n",
      "E:\\ANACONDA\\lib\\site-packages\\sklearn\\utils\\validation.py:63: DataConversionWarning: A column-vector y was passed when a 1d array was expected. Please change the shape of y to (n_samples, ), for example using ravel().\n",
      "  return f(*args, **kwargs)\n",
      "E:\\ANACONDA\\lib\\site-packages\\sklearn\\utils\\validation.py:63: DataConversionWarning: A column-vector y was passed when a 1d array was expected. Please change the shape of y to (n_samples, ), for example using ravel().\n",
      "  return f(*args, **kwargs)\n",
      "E:\\ANACONDA\\lib\\site-packages\\sklearn\\utils\\validation.py:63: DataConversionWarning: A column-vector y was passed when a 1d array was expected. Please change the shape of y to (n_samples, ), for example using ravel().\n",
      "  return f(*args, **kwargs)\n",
      "E:\\ANACONDA\\lib\\site-packages\\sklearn\\utils\\validation.py:63: DataConversionWarning: A column-vector y was passed when a 1d array was expected. Please change the shape of y to (n_samples, ), for example using ravel().\n",
      "  return f(*args, **kwargs)\n",
      "E:\\ANACONDA\\lib\\site-packages\\sklearn\\utils\\validation.py:63: DataConversionWarning: A column-vector y was passed when a 1d array was expected. Please change the shape of y to (n_samples, ), for example using ravel().\n",
      "  return f(*args, **kwargs)\n",
      "E:\\ANACONDA\\lib\\site-packages\\sklearn\\utils\\validation.py:63: DataConversionWarning: A column-vector y was passed when a 1d array was expected. Please change the shape of y to (n_samples, ), for example using ravel().\n",
      "  return f(*args, **kwargs)\n",
      "E:\\ANACONDA\\lib\\site-packages\\sklearn\\utils\\validation.py:63: DataConversionWarning: A column-vector y was passed when a 1d array was expected. Please change the shape of y to (n_samples, ), for example using ravel().\n",
      "  return f(*args, **kwargs)\n",
      "E:\\ANACONDA\\lib\\site-packages\\sklearn\\utils\\validation.py:63: DataConversionWarning: A column-vector y was passed when a 1d array was expected. Please change the shape of y to (n_samples, ), for example using ravel().\n",
      "  return f(*args, **kwargs)\n",
      "E:\\ANACONDA\\lib\\site-packages\\sklearn\\utils\\validation.py:63: DataConversionWarning: A column-vector y was passed when a 1d array was expected. Please change the shape of y to (n_samples, ), for example using ravel().\n",
      "  return f(*args, **kwargs)\n",
      "E:\\ANACONDA\\lib\\site-packages\\sklearn\\utils\\validation.py:63: DataConversionWarning: A column-vector y was passed when a 1d array was expected. Please change the shape of y to (n_samples, ), for example using ravel().\n",
      "  return f(*args, **kwargs)\n",
      "E:\\ANACONDA\\lib\\site-packages\\sklearn\\utils\\validation.py:63: DataConversionWarning: A column-vector y was passed when a 1d array was expected. Please change the shape of y to (n_samples, ), for example using ravel().\n",
      "  return f(*args, **kwargs)\n",
      "E:\\ANACONDA\\lib\\site-packages\\sklearn\\utils\\validation.py:63: DataConversionWarning: A column-vector y was passed when a 1d array was expected. Please change the shape of y to (n_samples, ), for example using ravel().\n",
      "  return f(*args, **kwargs)\n",
      "E:\\ANACONDA\\lib\\site-packages\\sklearn\\utils\\validation.py:63: DataConversionWarning: A column-vector y was passed when a 1d array was expected. Please change the shape of y to (n_samples, ), for example using ravel().\n",
      "  return f(*args, **kwargs)\n",
      "E:\\ANACONDA\\lib\\site-packages\\sklearn\\utils\\validation.py:63: DataConversionWarning: A column-vector y was passed when a 1d array was expected. Please change the shape of y to (n_samples, ), for example using ravel().\n",
      "  return f(*args, **kwargs)\n",
      "E:\\ANACONDA\\lib\\site-packages\\sklearn\\utils\\validation.py:63: DataConversionWarning: A column-vector y was passed when a 1d array was expected. Please change the shape of y to (n_samples, ), for example using ravel().\n",
      "  return f(*args, **kwargs)\n"
     ]
    },
    {
     "name": "stdout",
     "output_type": "stream",
     "text": [
      "Max Accuracy = 0.905642\n"
     ]
    }
   ],
   "source": [
    "nfold = 5\n",
    "kf = KFold(n_splits=nfold,shuffle=True) \n",
    "C = np.linspace(1e1,1e20,5)\n",
    "acc = np.zeros((5,5))\n",
    "\n",
    "for i,I in enumerate(kf.split(X)):\n",
    "    train, test = I\n",
    "    Xtr_cross = X[train,:]\n",
    "    ytr_cross = y[train]\n",
    "    Xts_cross = X[test,:]\n",
    "    yts_cross = y[test]\n",
    "    for j,cc in enumerate(C):\n",
    "        #fit\n",
    "        logreg_cross = LogisticRegression(penalty = 'l1', C = cc, solver = 'liblinear')\n",
    "        logreg_cross.fit(Xtr_cross, ytr_cross)\n",
    "        # predict\n",
    "        yhat_cross = logreg_cross.predict(Xts_cross)\n",
    "        acc[j,i] = np.mean(yhat_cross == yts_cross)\n",
    "\n",
    "acc_mean = np.mean(acc, axis = 1)\n",
    "acc_max = np.max(acc_mean)\n",
    "print('Max Accuracy = {0:f}'.format(acc_max))"
   ]
  },
  {
   "cell_type": "code",
   "execution_count": 101,
   "id": "6f1d5295",
   "metadata": {},
   "outputs": [
    {
     "data": {
      "image/png": "[encoded data removed]",
      "text/plain": [
       "<Figure size 432x288 with 1 Axes>"
      ]
     },
     "metadata": {
      "needs_background": "light"
     },
     "output_type": "display_data"
    }
   ],
   "source": [
    "plt.errorbar(C, acc_mean)\n",
    "plt.xlabel('C')\n",
    "plt.ylabel('acc')\n",
    "plt.grid()\n",
    "plt.show()"
   ]
  },
  {
   "cell_type": "markdown",
   "id": "ca734929",
   "metadata": {},
   "source": [
    "By using cross validation, we can see that the max accuracy of logistic regression with l1 Regularization is 0.905642 which is smaller than using l2 penalty to train the model. So when we use logistic regression, we can basically get an 0.94 accuracy of test. "
   ]
  },
  {
   "cell_type": "markdown",
   "id": "7d72a5cf",
   "metadata": {},
   "source": [
    "# SVM"
   ]
  },
  {
   "cell_type": "code",
   "execution_count": 18,
   "id": "97208a9c",
   "metadata": {},
   "outputs": [],
   "source": [
    "from sklearn import svm"
   ]
  },
  {
   "cell_type": "code",
   "execution_count": 10,
   "id": "fd5ff105",
   "metadata": {},
   "outputs": [],
   "source": [
    "from sklearn.model_selection import train_test_split\n",
    "Xtr, Xts, ytr, yts = train_test_split(X, y, test_size=0.5)"
   ]
  },
  {
   "cell_type": "code",
   "execution_count": 11,
   "id": "8b8af3b4",
   "metadata": {},
   "outputs": [
    {
     "name": "stdout",
     "output_type": "stream",
     "text": [
      "(283300, 19)\n",
      "(283301, 19)\n"
     ]
    }
   ],
   "source": [
    "print(Xtr.shape)\n",
    "print(Xts.shape)"
   ]
  },
  {
   "cell_type": "code",
   "execution_count": 12,
   "id": "d44c6ba7",
   "metadata": {},
   "outputs": [
    {
     "name": "stderr",
     "output_type": "stream",
     "text": [
      "E:\\ANACONDA\\lib\\site-packages\\sklearn\\utils\\validation.py:63: DataConversionWarning: A column-vector y was passed when a 1d array was expected. Please change the shape of y to (n_samples, ), for example using ravel().\n",
      "  return f(*args, **kwargs)\n"
     ]
    },
    {
     "name": "stdout",
     "output_type": "stream",
     "text": [
      "[LibSVM]"
     ]
    },
    {
     "data": {
      "text/plain": [
       "SVC(C=2.8, gamma=0.0073, kernel='linear', verbose=10)"
      ]
     },
     "execution_count": 12,
     "metadata": {},
     "output_type": "execute_result"
    }
   ],
   "source": [
    "svc = svm.SVC(probability = False, kernel=\"linear\", C=2.8, gamma=.0073,verbose=10)\n",
    "svc.fit(Xtr, ytr)"
   ]
  },
  {
   "cell_type": "code",
   "execution_count": 14,
   "id": "c602bc45",
   "metadata": {},
   "outputs": [],
   "source": [
    "yhat_svc = svc.predict(Xts)\n"
   ]
  },
  {
   "cell_type": "code",
   "execution_count": 17,
   "id": "0c6d07b4",
   "metadata": {},
   "outputs": [],
   "source": [
    "yhat_svc = yhat_svc.reshape(yhat_svc.shape[0],1)\n"
   ]
  },
  {
   "cell_type": "code",
   "execution_count": 18,
   "id": "417c04c6",
   "metadata": {},
   "outputs": [
    {
     "name": "stdout",
     "output_type": "stream",
     "text": [
      "0.938690650580125\n"
     ]
    }
   ],
   "source": [
    "acc_svc = np.mean(yhat_svc == yts)\n",
    "print(acc_svc)"
   ]
  },
  {
   "cell_type": "markdown",
   "id": "01034c90",
   "metadata": {},
   "source": [
    "## GridSearchCV"
   ]
  },
  {
   "cell_type": "code",
   "execution_count": 13,
   "id": "980b289b",
   "metadata": {},
   "outputs": [],
   "source": [
    "import sklearn.model_selection\n",
    "from sklearn.model_selection import GridSearchCV"
   ]
  },
  {
   "cell_type": "code",
   "execution_count": 14,
   "id": "6ce7eca9",
   "metadata": {},
   "outputs": [],
   "source": [
    "Xtr, Xts, ytr, yts = train_test_split(X, y, test_size=0.33)"
   ]
  },
  {
   "cell_type": "code",
   "execution_count": 15,
   "id": "a7ce4147",
   "metadata": {},
   "outputs": [],
   "source": [
    "ntr = len(ytr)\n",
    "nts = len(yts)\n",
    "test_fold = np.hstack((-1*np.ones(ntr), np.zeros(nts)))\n",
    "ps = sklearn.model_selection.PredefinedSplit(test_fold)"
   ]
  },
  {
   "cell_type": "code",
   "execution_count": 16,
   "id": "c942a932",
   "metadata": {},
   "outputs": [],
   "source": [
    "C_test = [0.01,0.1,1,10,100]\n",
    "gam_test = [0.001,0.01,0.1]"
   ]
  },
  {
   "cell_type": "code",
   "execution_count": 19,
   "id": "2bb4b57b",
   "metadata": {},
   "outputs": [],
   "source": [
    "param_grid = {'C': C_test, 'gamma': gam_test, 'kernel': ['rbf']}\n",
    "clf = GridSearchCV(svm.SVC(), param_grid = param_grid, cv = ps, verbose=15)"
   ]
  },
  {
   "cell_type": "code",
   "execution_count": null,
   "id": "2aabeb2d",
   "metadata": {},
   "outputs": [
    {
     "name": "stdout",
     "output_type": "stream",
     "text": [
      "Fitting 1 folds for each of 15 candidates, totalling 15 fits\n",
      "[CV 1/1; 1/15] START C=0.01, gamma=0.001, kernel=rbf............................\n"
     ]
    },
    {
     "name": "stderr",
     "output_type": "stream",
     "text": [
      "E:\\ANACONDA\\lib\\site-packages\\sklearn\\utils\\validation.py:63: DataConversionWarning: A column-vector y was passed when a 1d array was expected. Please change the shape of y to (n_samples, ), for example using ravel().\n",
      "  return f(*args, **kwargs)\n"
     ]
    },
    {
     "name": "stdout",
     "output_type": "stream",
     "text": [
      "[CV 1/1; 1/15] END ..........C=0.01, gamma=0.001, kernel=rbf; total time=61.7min\n",
      "[CV 1/1; 2/15] START C=0.01, gamma=0.01, kernel=rbf.............................\n"
     ]
    },
    {
     "name": "stderr",
     "output_type": "stream",
     "text": [
      "E:\\ANACONDA\\lib\\site-packages\\sklearn\\utils\\validation.py:63: DataConversionWarning: A column-vector y was passed when a 1d array was expected. Please change the shape of y to (n_samples, ), for example using ravel().\n",
      "  return f(*args, **kwargs)\n"
     ]
    },
    {
     "name": "stdout",
     "output_type": "stream",
     "text": [
      "[CV 1/1; 2/15] END ...........C=0.01, gamma=0.01, kernel=rbf; total time=45.3min\n",
      "[CV 1/1; 3/15] START C=0.01, gamma=0.1, kernel=rbf..............................\n"
     ]
    },
    {
     "name": "stderr",
     "output_type": "stream",
     "text": [
      "E:\\ANACONDA\\lib\\site-packages\\sklearn\\utils\\validation.py:63: DataConversionWarning: A column-vector y was passed when a 1d array was expected. Please change the shape of y to (n_samples, ), for example using ravel().\n",
      "  return f(*args, **kwargs)\n"
     ]
    },
    {
     "name": "stdout",
     "output_type": "stream",
     "text": [
      "[CV 1/1; 3/15] END ...........C=0.01, gamma=0.1, kernel=rbf; total time=318.9min\n",
      "[CV 1/1; 4/15] START C=0.1, gamma=0.001, kernel=rbf.............................\n"
     ]
    },
    {
     "name": "stderr",
     "output_type": "stream",
     "text": [
      "E:\\ANACONDA\\lib\\site-packages\\sklearn\\utils\\validation.py:63: DataConversionWarning: A column-vector y was passed when a 1d array was expected. Please change the shape of y to (n_samples, ), for example using ravel().\n",
      "  return f(*args, **kwargs)\n"
     ]
    },
    {
     "name": "stdout",
     "output_type": "stream",
     "text": [
      "[CV 1/1; 4/15] END ...........C=0.1, gamma=0.001, kernel=rbf; total time=93.0min\n",
      "[CV 1/1; 5/15] START C=0.1, gamma=0.01, kernel=rbf..............................\n"
     ]
    },
    {
     "name": "stderr",
     "output_type": "stream",
     "text": [
      "E:\\ANACONDA\\lib\\site-packages\\sklearn\\utils\\validation.py:63: DataConversionWarning: A column-vector y was passed when a 1d array was expected. Please change the shape of y to (n_samples, ), for example using ravel().\n",
      "  return f(*args, **kwargs)\n"
     ]
    },
    {
     "name": "stdout",
     "output_type": "stream",
     "text": [
      "[CV 1/1; 5/15] END ...........C=0.1, gamma=0.01, kernel=rbf; total time=165.2min\n",
      "[CV 1/1; 6/15] START C=0.1, gamma=0.1, kernel=rbf...............................\n"
     ]
    },
    {
     "name": "stderr",
     "output_type": "stream",
     "text": [
      "E:\\ANACONDA\\lib\\site-packages\\sklearn\\utils\\validation.py:63: DataConversionWarning: A column-vector y was passed when a 1d array was expected. Please change the shape of y to (n_samples, ), for example using ravel().\n",
      "  return f(*args, **kwargs)\n"
     ]
    },
    {
     "name": "stdout",
     "output_type": "stream",
     "text": [
      "[CV 1/1; 6/15] END ............C=0.1, gamma=0.1, kernel=rbf; total time=152.1min\n",
      "[CV 1/1; 7/15] START C=1, gamma=0.001, kernel=rbf...............................\n"
     ]
    },
    {
     "name": "stderr",
     "output_type": "stream",
     "text": [
      "E:\\ANACONDA\\lib\\site-packages\\sklearn\\utils\\validation.py:63: DataConversionWarning: A column-vector y was passed when a 1d array was expected. Please change the shape of y to (n_samples, ), for example using ravel().\n",
      "  return f(*args, **kwargs)\n"
     ]
    },
    {
     "name": "stdout",
     "output_type": "stream",
     "text": [
      "[CV 1/1; 7/15] END .............C=1, gamma=0.001, kernel=rbf; total time=51.4min\n",
      "[CV 1/1; 8/15] START C=1, gamma=0.01, kernel=rbf................................\n"
     ]
    },
    {
     "name": "stderr",
     "output_type": "stream",
     "text": [
      "E:\\ANACONDA\\lib\\site-packages\\sklearn\\utils\\validation.py:63: DataConversionWarning: A column-vector y was passed when a 1d array was expected. Please change the shape of y to (n_samples, ), for example using ravel().\n",
      "  return f(*args, **kwargs)\n"
     ]
    },
    {
     "name": "stdout",
     "output_type": "stream",
     "text": [
      "[CV 1/1; 8/15] END .............C=1, gamma=0.01, kernel=rbf; total time=120.6min\n",
      "[CV 1/1; 9/15] START C=1, gamma=0.1, kernel=rbf.................................\n"
     ]
    },
    {
     "name": "stderr",
     "output_type": "stream",
     "text": [
      "E:\\ANACONDA\\lib\\site-packages\\sklearn\\utils\\validation.py:63: DataConversionWarning: A column-vector y was passed when a 1d array was expected. Please change the shape of y to (n_samples, ), for example using ravel().\n",
      "  return f(*args, **kwargs)\n"
     ]
    },
    {
     "name": "stdout",
     "output_type": "stream",
     "text": [
      "[CV 1/1; 9/15] END ..............C=1, gamma=0.1, kernel=rbf; total time=192.6min\n",
      "[CV 1/1; 10/15] START C=10, gamma=0.001, kernel=rbf.............................\n"
     ]
    },
    {
     "name": "stderr",
     "output_type": "stream",
     "text": [
      "E:\\ANACONDA\\lib\\site-packages\\sklearn\\utils\\validation.py:63: DataConversionWarning: A column-vector y was passed when a 1d array was expected. Please change the shape of y to (n_samples, ), for example using ravel().\n",
      "  return f(*args, **kwargs)\n"
     ]
    },
    {
     "name": "stdout",
     "output_type": "stream",
     "text": [
      "[CV 1/1; 10/15] END ...........C=10, gamma=0.001, kernel=rbf; total time=75.2min\n",
      "[CV 1/1; 11/15] START C=10, gamma=0.01, kernel=rbf..............................\n"
     ]
    },
    {
     "name": "stderr",
     "output_type": "stream",
     "text": [
      "E:\\ANACONDA\\lib\\site-packages\\sklearn\\utils\\validation.py:63: DataConversionWarning: A column-vector y was passed when a 1d array was expected. Please change the shape of y to (n_samples, ), for example using ravel().\n",
      "  return f(*args, **kwargs)\n"
     ]
    },
    {
     "name": "stdout",
     "output_type": "stream",
     "text": [
      "[CV 1/1; 11/15] END ...........C=10, gamma=0.01, kernel=rbf; total time=360.4min\n",
      "[CV 1/1; 12/15] START C=10, gamma=0.1, kernel=rbf...............................\n"
     ]
    },
    {
     "name": "stderr",
     "output_type": "stream",
     "text": [
      "E:\\ANACONDA\\lib\\site-packages\\sklearn\\utils\\validation.py:63: DataConversionWarning: A column-vector y was passed when a 1d array was expected. Please change the shape of y to (n_samples, ), for example using ravel().\n",
      "  return f(*args, **kwargs)\n"
     ]
    }
   ],
   "source": [
    "clf.fit(X,y) "
   ]
  },
  {
   "cell_type": "code",
   "execution_count": null,
   "id": "dc43d06e",
   "metadata": {},
   "outputs": [],
   "source": [
    "print(\"best score is\"+ str(clf.best_score_))"
   ]
  },
  {
   "cell_type": "code",
   "execution_count": null,
   "id": "706d493f",
   "metadata": {},
   "outputs": [],
   "source": []
  }
 ],
 "metadata": {
  "kernelspec": {
   "display_name": "Python 3",
   "language": "python",
   "name": "python3"
  },
  "language_info": {
   "codemirror_mode": {
    "name": "ipython",
    "version": 3
   },
   "file_extension": ".py",
   "mimetype": "text/x-python",
   "name": "python",
   "nbconvert_exporter": "python",
   "pygments_lexer": "ipython3",
   "version": "3.8.8"
  }
 },
 "nbformat": 4,
 "nbformat_minor": 5
}
